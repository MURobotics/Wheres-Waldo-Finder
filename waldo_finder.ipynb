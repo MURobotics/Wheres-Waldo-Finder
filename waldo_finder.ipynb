{
 "cells": [
  {
   "cell_type": "code",
   "execution_count": 1,
   "metadata": {},
   "outputs": [],
   "source": [
    "import cv2\n",
    "import numpy\n",
    "import os"
   ]
  },
  {
   "cell_type": "code",
   "execution_count": 2,
   "metadata": {},
   "outputs": [],
   "source": [
    "COLOR_RED = (0, 0, 255)\n",
    "\n",
    "image_dir = os.getcwd()"
   ]
  },
  {
   "cell_type": "code",
   "execution_count": 3,
   "metadata": {},
   "outputs": [],
   "source": [
    "image_rgb = cv2.imread(filename=image_dir + '/find_waldo.png',\n",
    "                       flags=cv2.IMREAD_ANYCOLOR)"
   ]
  },
  {
   "cell_type": "code",
   "execution_count": 4,
   "metadata": {},
   "outputs": [],
   "source": [
    "image_gray = cv2.cvtColor(src=image_rgb, code=cv2.COLOR_RGB2GRAY)"
   ]
  },
  {
   "cell_type": "code",
   "execution_count": 5,
   "metadata": {},
   "outputs": [],
   "source": [
    "template = cv2.imread(filename=image_dir + '/waldo.png',\n",
    "                      flags=cv2.IMREAD_GRAYSCALE)\n",
    "template_height, template_width = template.shape"
   ]
  },
  {
   "cell_type": "code",
   "execution_count": 6,
   "metadata": {},
   "outputs": [],
   "source": [
    "\n",
    "comparison = cv2.matchTemplate(image=image_gray, templ=template,\n",
    "                               method=cv2.TM_CCOEFF_NORMED)"
   ]
  },
  {
   "cell_type": "code",
   "execution_count": 7,
   "metadata": {},
   "outputs": [],
   "source": [
    "threshold = 0.6\n",
    "locations = numpy.where(comparison >= threshold)\n",
    "for top_left_point in zip(*locations[::-1]):\n",
    "    top_left_point_x = top_left_point[0]\n",
    "    top_left_point_y = top_left_point[1]\n",
    "    bottom_right_point_x = top_left_point_x + template_width\n",
    "    bottom_right_point_y = top_left_point_y + template_height\n",
    "    bottom_right_point = (bottom_right_point_x, bottom_right_point_y)\n",
    "    cv2.rectangle(img=image_rgb, pt1=top_left_point,\n",
    "                  pt2=bottom_right_point, color=COLOR_RED, thickness=cv2.LINE_4)"
   ]
  },
  {
   "cell_type": "code",
   "execution_count": 8,
   "metadata": {},
   "outputs": [
    {
     "data": {
      "text/plain": [
       "True"
      ]
     },
     "execution_count": 8,
     "metadata": {},
     "output_type": "execute_result"
    }
   ],
   "source": [
    "cv2.imwrite(filename='found_waldo.png', img=image_rgb)"
   ]
  }
 ],
 "metadata": {
  "kernelspec": {
   "display_name": "base",
   "language": "python",
   "name": "python3"
  },
  "language_info": {
   "codemirror_mode": {
    "name": "ipython",
    "version": 3
   },
   "file_extension": ".py",
   "mimetype": "text/x-python",
   "name": "python",
   "nbconvert_exporter": "python",
   "pygments_lexer": "ipython3",
   "version": "3.9.16"
  },
  "orig_nbformat": 4
 },
 "nbformat": 4,
 "nbformat_minor": 2
}
